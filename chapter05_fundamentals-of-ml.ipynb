{
  "cells": [
    {
      "cell_type": "markdown",
      "metadata": {
        "id": "CVJiKoZjVTuA"
      },
      "source": [
        "This is a companion notebook for the book [Deep Learning with Python, Second Edition](https://www.manning.com/books/deep-learning-with-python-second-edition?a_aid=keras&a_bid=76564dff). For readability, it only contains runnable code blocks and section titles, and omits everything else in the book: text paragraphs, figures, and pseudocode.\n",
        "\n",
        "**If you want to be able to follow what's going on, I recommend reading the notebook side by side with your copy of the book.**\n",
        "\n",
        "This notebook was generated for TensorFlow 2.6."
      ]
    },
    {
      "cell_type": "markdown",
      "metadata": {
        "id": "iRVvqklNVTuC"
      },
      "source": [
        "# Fundamentals of machine learning"
      ]
    },
    {
      "cell_type": "markdown",
      "metadata": {
        "id": "_JUG2Wq9VTuD"
      },
      "source": [
        "## Generalization: The goal of machine learning"
      ]
    },
    {
      "cell_type": "markdown",
      "metadata": {
        "id": "tC9lLwTvVTuE"
      },
      "source": [
        "### Underfitting and overfitting"
      ]
    },
    {
      "cell_type": "markdown",
      "metadata": {
        "id": "hcvNnWoyVTuE"
      },
      "source": [
        "#### Noisy training data"
      ]
    },
    {
      "cell_type": "markdown",
      "metadata": {
        "id": "WQ84iDmUVTuE"
      },
      "source": [
        "#### Ambiguous features"
      ]
    },
    {
      "cell_type": "markdown",
      "metadata": {
        "id": "heZP5cq2VTuE"
      },
      "source": [
        "#### Rare features and spurious correlations"
      ]
    },
    {
      "cell_type": "markdown",
      "metadata": {
        "id": "eCZ8o-M2VTuE"
      },
      "source": [
        "**Adding white-noise channels or all-zeros channels to MNIST**"
      ]
    },
    {
      "cell_type": "code",
      "execution_count": 2,
      "metadata": {
        "id": "wVdxdsXrVTuF"
      },
      "outputs": [],
      "source": [
        "from tensorflow.keras.datasets import mnist\n",
        "import numpy as np\n",
        "\n",
        "(train_images, train_labels), _ = mnist.load_data()\n",
        "train_images = train_images.reshape((60000, 28 * 28))\n",
        "train_images = train_images.astype(\"float32\") / 255\n",
        "\n",
        "train_images_with_noise_channels = np.concatenate(\n",
        "\n",
        "    [train_images, np.random.random((len(train_images), 784))], axis=1)\n",
        "\n",
        "train_images_with_zeros_channels = np.concatenate(\n",
        "    [train_images, np.zeros((len(train_images), 784))], axis=1)"
      ]
    },
    {
      "cell_type": "markdown",
      "metadata": {
        "id": "txPAA0oXVTuG"
      },
      "source": [
        "**Training the same model on MNIST data with noise channels or all-zero channels**"
      ]
    },
    {
      "cell_type": "code",
      "execution_count": 5,
      "metadata": {
        "id": "V6eOgQn1VTuG",
        "outputId": "31859ec4-6b53-4360-b643-b41fb168f858",
        "colab": {
          "base_uri": "https://localhost:8080/"
        }
      },
      "outputs": [
        {
          "output_type": "stream",
          "name": "stdout",
          "text": [
            "Epoch 1/10\n",
            "375/375 [==============================] - 2s 4ms/step - loss: 0.6141 - accuracy: 0.8118 - val_loss: 0.3203 - val_accuracy: 0.8996\n",
            "Epoch 2/10\n",
            "375/375 [==============================] - 1s 3ms/step - loss: 0.2593 - accuracy: 0.9202 - val_loss: 0.2107 - val_accuracy: 0.9371\n",
            "Epoch 3/10\n",
            "375/375 [==============================] - 1s 3ms/step - loss: 0.1675 - accuracy: 0.9478 - val_loss: 0.1625 - val_accuracy: 0.9503\n",
            "Epoch 4/10\n",
            "375/375 [==============================] - 1s 3ms/step - loss: 0.1210 - accuracy: 0.9617 - val_loss: 0.1614 - val_accuracy: 0.9509\n",
            "Epoch 5/10\n",
            "375/375 [==============================] - 1s 3ms/step - loss: 0.0871 - accuracy: 0.9734 - val_loss: 0.1228 - val_accuracy: 0.9639\n",
            "Epoch 6/10\n",
            "375/375 [==============================] - 2s 4ms/step - loss: 0.0660 - accuracy: 0.9788 - val_loss: 0.1280 - val_accuracy: 0.9644\n",
            "Epoch 7/10\n",
            "375/375 [==============================] - 2s 6ms/step - loss: 0.0495 - accuracy: 0.9839 - val_loss: 0.1214 - val_accuracy: 0.9660\n",
            "Epoch 8/10\n",
            "375/375 [==============================] - 2s 4ms/step - loss: 0.0369 - accuracy: 0.9883 - val_loss: 0.1420 - val_accuracy: 0.9613\n",
            "Epoch 9/10\n",
            "375/375 [==============================] - 2s 4ms/step - loss: 0.0268 - accuracy: 0.9912 - val_loss: 0.1263 - val_accuracy: 0.9683\n",
            "Epoch 10/10\n",
            "375/375 [==============================] - 2s 4ms/step - loss: 0.0210 - accuracy: 0.9937 - val_loss: 0.1912 - val_accuracy: 0.9557\n",
            "Epoch 1/10\n",
            "375/375 [==============================] - 3s 6ms/step - loss: 0.2940 - accuracy: 0.9165 - val_loss: 0.1568 - val_accuracy: 0.9548\n",
            "Epoch 2/10\n",
            "375/375 [==============================] - 2s 4ms/step - loss: 0.1239 - accuracy: 0.9639 - val_loss: 0.1094 - val_accuracy: 0.9687\n",
            "Epoch 3/10\n",
            "375/375 [==============================] - 2s 6ms/step - loss: 0.0818 - accuracy: 0.9761 - val_loss: 0.0906 - val_accuracy: 0.9736\n",
            "Epoch 4/10\n",
            "375/375 [==============================] - 2s 5ms/step - loss: 0.0587 - accuracy: 0.9826 - val_loss: 0.0835 - val_accuracy: 0.9753\n",
            "Epoch 5/10\n",
            "375/375 [==============================] - 2s 4ms/step - loss: 0.0443 - accuracy: 0.9873 - val_loss: 0.0754 - val_accuracy: 0.9778\n",
            "Epoch 6/10\n",
            "375/375 [==============================] - 1s 4ms/step - loss: 0.0329 - accuracy: 0.9904 - val_loss: 0.0833 - val_accuracy: 0.9756\n",
            "Epoch 7/10\n",
            "375/375 [==============================] - 1s 3ms/step - loss: 0.0248 - accuracy: 0.9932 - val_loss: 0.0806 - val_accuracy: 0.9778\n",
            "Epoch 8/10\n",
            "375/375 [==============================] - 1s 3ms/step - loss: 0.0189 - accuracy: 0.9949 - val_loss: 0.0834 - val_accuracy: 0.9776\n",
            "Epoch 9/10\n",
            "375/375 [==============================] - 1s 3ms/step - loss: 0.0145 - accuracy: 0.9961 - val_loss: 0.0755 - val_accuracy: 0.9797\n",
            "Epoch 10/10\n",
            "375/375 [==============================] - 2s 4ms/step - loss: 0.0100 - accuracy: 0.9979 - val_loss: 0.0792 - val_accuracy: 0.9800\n",
            "Epoch 1/10\n",
            "375/375 [==============================] - 5s 7ms/step - loss: 0.2930 - accuracy: 0.9142 - val_loss: 0.1462 - val_accuracy: 0.9565\n",
            "Epoch 2/10\n",
            "375/375 [==============================] - 2s 5ms/step - loss: 0.1214 - accuracy: 0.9634 - val_loss: 0.1149 - val_accuracy: 0.9666\n",
            "Epoch 3/10\n",
            "375/375 [==============================] - 1s 3ms/step - loss: 0.0788 - accuracy: 0.9768 - val_loss: 0.0928 - val_accuracy: 0.9732\n",
            "Epoch 4/10\n",
            "375/375 [==============================] - 1s 3ms/step - loss: 0.0570 - accuracy: 0.9830 - val_loss: 0.0904 - val_accuracy: 0.9725\n",
            "Epoch 5/10\n",
            "375/375 [==============================] - 1s 3ms/step - loss: 0.0422 - accuracy: 0.9880 - val_loss: 0.0792 - val_accuracy: 0.9769\n",
            "Epoch 6/10\n",
            "375/375 [==============================] - 1s 3ms/step - loss: 0.0314 - accuracy: 0.9908 - val_loss: 0.0774 - val_accuracy: 0.9764\n",
            "Epoch 7/10\n",
            "375/375 [==============================] - 1s 3ms/step - loss: 0.0239 - accuracy: 0.9934 - val_loss: 0.0757 - val_accuracy: 0.9782\n",
            "Epoch 8/10\n",
            "375/375 [==============================] - 2s 4ms/step - loss: 0.0181 - accuracy: 0.9955 - val_loss: 0.0771 - val_accuracy: 0.9792\n",
            "Epoch 9/10\n",
            "375/375 [==============================] - 1s 4ms/step - loss: 0.0134 - accuracy: 0.9965 - val_loss: 0.0805 - val_accuracy: 0.9786\n",
            "Epoch 10/10\n",
            "375/375 [==============================] - 1s 3ms/step - loss: 0.0097 - accuracy: 0.9978 - val_loss: 0.0736 - val_accuracy: 0.9806\n"
          ]
        }
      ],
      "source": [
        "from tensorflow import keras\n",
        "from tensorflow.keras import layers\n",
        "\n",
        "def get_model():\n",
        "    model = keras.Sequential([\n",
        "        layers.Dense(512, activation=\"relu\"),\n",
        "        layers.Dense(10, activation=\"softmax\")\n",
        "    ])\n",
        "    model.compile(optimizer=\"rmsprop\",\n",
        "                  loss=\"sparse_categorical_crossentropy\",\n",
        "                  metrics=[\"accuracy\"])\n",
        "    return model\n",
        "\n",
        "model = get_model()\n",
        "history_noise = model.fit(\n",
        "    train_images_with_noise_channels, train_labels,\n",
        "    epochs=10,\n",
        "    batch_size=128,\n",
        "    validation_split=0.2)\n",
        "\n",
        "model = get_model()\n",
        "history_zeros = model.fit(\n",
        "    train_images_with_zeros_channels, train_labels,\n",
        "    epochs=10,\n",
        "    batch_size=128,\n",
        "    validation_split=0.2)\n",
        "\n",
        "model = get_model()\n",
        "history = model.fit(\n",
        "    train_images, train_labels,\n",
        "    epochs=10,\n",
        "    batch_size=128,\n",
        "    validation_split=0.2\n",
        ")"
      ]
    },
    {
      "cell_type": "markdown",
      "metadata": {
        "id": "PwyLykmgVTuG"
      },
      "source": [
        "**Plotting a validation accuracy comparison**"
      ]
    },
    {
      "cell_type": "code",
      "execution_count": 14,
      "metadata": {
        "id": "znKTbyHnVTuH",
        "outputId": "a28f5184-9726-413e-e71f-af05ef9bd3d5",
        "colab": {
          "base_uri": "https://localhost:8080/",
          "height": 489
        }
      },
      "outputs": [
        {
          "output_type": "execute_result",
          "data": {
            "text/plain": [
              "<matplotlib.legend.Legend at 0x7be9de3268f0>"
            ]
          },
          "metadata": {},
          "execution_count": 14
        },
        {
          "output_type": "display_data",
          "data": {
            "text/plain": [
              "<Figure size 640x480 with 1 Axes>"
            ],
            "image/png": "[encoded data removed]"
          },
          "metadata": {}
        }
      ],
      "source": [
        "import matplotlib.pyplot as plt\n",
        "val_acc_noise = history_noise.history[\"val_accuracy\"]\n",
        "val_acc_zeros = history_zeros.history[\"val_accuracy\"]\n",
        "val_acc = history.history[\"val_accuracy\"]\n",
        "epochs = range(1, 11)\n",
        "plt.plot(epochs, val_acc_noise, \"b-\",\n",
        "         label=\"Validation accuracy with noise channels\")\n",
        "plt.plot(epochs, val_acc_zeros, \"b--\",\n",
        "         label=\"Validation accuracy with zeros channels\")\n",
        "plt.plot(epochs, val_acc, \"r-\",\n",
        "         label=\"Validation accuracy without noise\")\n",
        "\n",
        "plt.title(\"Effect of noise channels on validation accuracy\")\n",
        "plt.xlabel(\"Epochs\")\n",
        "plt.ylabel(\"Accuracy\")\n",
        "plt.legend()"
      ]
    },
    {
      "cell_type": "markdown",
      "metadata": {
        "id": "jqn987TrVTuH"
      },
      "source": [
        "### The nature of generalization in deep learning"
      ]
    },
    {
      "cell_type": "markdown",
      "metadata": {
        "id": "WNRhB6YbVTuH"
      },
      "source": [
        "**Fitting a MNIST model with randomly shuffled labels**"
      ]
    },
    {
      "cell_type": "code",
      "source": [
        "#Need to run the model with random shuffles below first\n",
        "\n",
        "val_acc_rnd = history_rnd.history[\"val_accuracy\"]\n",
        "train_acc = history_rnd.history[\"accuracy\"]\n",
        "\n",
        "epochs = range(1, 101)\n",
        "plt.plot(epochs, val_acc_rnd, \"b-\",\n",
        "         label=\"Validation accuracy\")\n",
        "plt.plot(epochs, train_acc, \"r--\",\n",
        "         label=\"Training accuracy\")\n",
        "\n",
        "\n",
        "plt.title(\"Effect of noise channels on validation accuracy\")\n",
        "plt.xlabel(\"Epochs\")\n",
        "plt.ylabel(\"Accuracy\")\n",
        "plt.legend()"
      ],
      "metadata": {
        "id": "rPZRPgbaYWBp",
        "outputId": "1c0b8f35-1c60-4704-dc20-202fb15574f9",
        "colab": {
          "base_uri": "https://localhost:8080/",
          "height": 489
        }
      },
      "execution_count": 22,
      "outputs": [
        {
          "output_type": "execute_result",
          "data": {
            "text/plain": [
              "<matplotlib.legend.Legend at 0x7be9ddfb3f10>"
            ]
          },
          "metadata": {},
          "execution_count": 22
        },
        {
          "output_type": "display_data",
          "data": {
            "text/plain": [
              "<Figure size 640x480 with 1 Axes>"
            ],
            "image/png": "[encoded data removed]"
          },
          "metadata": {}
        }
      ]
    },
    {
      "cell_type": "code",
      "source": [
        "history_rnd.history"
      ],
      "metadata": {
        "id": "1KwEoR1OZxmq",
        "outputId": "b9560ee0-e60c-414e-9686-8ec3541136b2",
        "colab": {
          "base_uri": "https://localhost:8080/"
        }
      },
      "execution_count": 16,
      "outputs": [
        {
          "output_type": "execute_result",
          "data": {
            "text/plain": [
              "{'loss': [2.3165392875671387,\n",
              "  2.2991394996643066,\n",
              "  2.291249990463257,\n",
              "  2.2800137996673584,\n",
              "  2.2652201652526855,\n",
              "  2.2469189167022705,\n",
              "  2.224756956100464,\n",
              "  2.1985678672790527,\n",
              "  2.16977858543396,\n",
              "  2.138228416442871],\n",
              " 'accuracy': [0.10333333164453506,\n",
              "  0.1145416647195816,\n",
              "  0.12585416436195374,\n",
              "  0.13589583337306976,\n",
              "  0.14883333444595337,\n",
              "  0.16175000369548798,\n",
              "  0.17643749713897705,\n",
              "  0.19175000488758087,\n",
              "  0.20777083933353424,\n",
              "  0.22612500190734863],\n",
              " 'val_loss': [2.3054041862487793,\n",
              "  2.3074731826782227,\n",
              "  2.319241523742676,\n",
              "  2.3241829872131348,\n",
              "  2.3279008865356445,\n",
              "  2.355755090713501,\n",
              "  2.3560168743133545,\n",
              "  2.369847536087036,\n",
              "  2.391173839569092,\n",
              "  2.419846773147583],\n",
              " 'val_accuracy': [0.10324999690055847,\n",
              "  0.1042499989271164,\n",
              "  0.10474999994039536,\n",
              "  0.09791667014360428,\n",
              "  0.1040833368897438,\n",
              "  0.10641666501760483,\n",
              "  0.10141666978597641,\n",
              "  0.10275000333786011,\n",
              "  0.10208333283662796,\n",
              "  0.10591666400432587]}"
            ]
          },
          "metadata": {},
          "execution_count": 16
        }
      ]
    },
    {
      "cell_type": "code",
      "execution_count": 19,
      "metadata": {
        "id": "8B0Paz8eVTuH",
        "outputId": "52320805-e0fc-4c2e-ef02-1612a97a98b6",
        "colab": {
          "base_uri": "https://localhost:8080/"
        }
      },
      "outputs": [
        {
          "output_type": "stream",
          "name": "stdout",
          "text": [
            "Epoch 1/100\n",
            "375/375 [==============================] - 2s 4ms/step - loss: 2.3168 - accuracy: 0.1022 - val_loss: 2.3077 - val_accuracy: 0.1026\n",
            "Epoch 2/100\n",
            "375/375 [==============================] - 1s 4ms/step - loss: 2.2991 - accuracy: 0.1185 - val_loss: 2.3132 - val_accuracy: 0.1008\n",
            "Epoch 3/100\n",
            "375/375 [==============================] - 2s 4ms/step - loss: 2.2917 - accuracy: 0.1248 - val_loss: 2.3147 - val_accuracy: 0.1030\n",
            "Epoch 4/100\n",
            "375/375 [==============================] - 1s 3ms/step - loss: 2.2807 - accuracy: 0.1378 - val_loss: 2.3282 - val_accuracy: 0.1060\n",
            "Epoch 5/100\n",
            "375/375 [==============================] - 1s 3ms/step - loss: 2.2654 - accuracy: 0.1524 - val_loss: 2.3349 - val_accuracy: 0.0978\n",
            "Epoch 6/100\n",
            "375/375 [==============================] - 1s 3ms/step - loss: 2.2474 - accuracy: 0.1622 - val_loss: 2.3492 - val_accuracy: 0.1037\n",
            "Epoch 7/100\n",
            "375/375 [==============================] - 1s 3ms/step - loss: 2.2233 - accuracy: 0.1794 - val_loss: 2.3589 - val_accuracy: 0.1019\n",
            "Epoch 8/100\n",
            "375/375 [==============================] - 1s 3ms/step - loss: 2.1996 - accuracy: 0.1935 - val_loss: 2.3843 - val_accuracy: 0.1031\n",
            "Epoch 9/100\n",
            "375/375 [==============================] - 1s 3ms/step - loss: 2.1701 - accuracy: 0.2080 - val_loss: 2.4047 - val_accuracy: 0.1040\n",
            "Epoch 10/100\n",
            "375/375 [==============================] - 1s 3ms/step - loss: 2.1387 - accuracy: 0.2249 - val_loss: 2.4123 - val_accuracy: 0.1038\n",
            "Epoch 11/100\n",
            "375/375 [==============================] - 1s 3ms/step - loss: 2.1048 - accuracy: 0.2447 - val_loss: 2.4378 - val_accuracy: 0.1013\n",
            "Epoch 12/100\n",
            "375/375 [==============================] - 2s 4ms/step - loss: 2.0698 - accuracy: 0.2590 - val_loss: 2.4647 - val_accuracy: 0.1041\n",
            "Epoch 13/100\n",
            "375/375 [==============================] - 1s 4ms/step - loss: 2.0331 - accuracy: 0.2753 - val_loss: 2.4894 - val_accuracy: 0.1048\n",
            "Epoch 14/100\n",
            "375/375 [==============================] - 1s 3ms/step - loss: 1.9945 - accuracy: 0.2924 - val_loss: 2.5268 - val_accuracy: 0.0997\n",
            "Epoch 15/100\n",
            "375/375 [==============================] - 1s 3ms/step - loss: 1.9560 - accuracy: 0.3087 - val_loss: 2.5665 - val_accuracy: 0.1015\n",
            "Epoch 16/100\n",
            "375/375 [==============================] - 1s 3ms/step - loss: 1.9158 - accuracy: 0.3262 - val_loss: 2.6081 - val_accuracy: 0.1023\n",
            "Epoch 17/100\n",
            "375/375 [==============================] - 1s 3ms/step - loss: 1.8776 - accuracy: 0.3414 - val_loss: 2.6256 - val_accuracy: 0.1018\n",
            "Epoch 18/100\n",
            "375/375 [==============================] - 2s 5ms/step - loss: 1.8379 - accuracy: 0.3578 - val_loss: 2.6716 - val_accuracy: 0.1001\n",
            "Epoch 19/100\n",
            "375/375 [==============================] - 1s 4ms/step - loss: 1.7986 - accuracy: 0.3719 - val_loss: 2.7122 - val_accuracy: 0.1009\n",
            "Epoch 20/100\n",
            "375/375 [==============================] - 1s 3ms/step - loss: 1.7594 - accuracy: 0.3910 - val_loss: 2.7592 - val_accuracy: 0.0978\n",
            "Epoch 21/100\n",
            "375/375 [==============================] - 2s 4ms/step - loss: 1.7232 - accuracy: 0.4015 - val_loss: 2.8057 - val_accuracy: 0.0986\n",
            "Epoch 22/100\n",
            "375/375 [==============================] - 1s 3ms/step - loss: 1.6866 - accuracy: 0.4153 - val_loss: 2.8157 - val_accuracy: 0.0969\n",
            "Epoch 23/100\n",
            "375/375 [==============================] - 1s 4ms/step - loss: 1.6486 - accuracy: 0.4316 - val_loss: 2.8875 - val_accuracy: 0.0988\n",
            "Epoch 24/100\n",
            "375/375 [==============================] - 1s 4ms/step - loss: 1.6129 - accuracy: 0.4444 - val_loss: 2.9095 - val_accuracy: 0.0996\n",
            "Epoch 25/100\n",
            "375/375 [==============================] - 1s 4ms/step - loss: 1.5789 - accuracy: 0.4581 - val_loss: 2.9766 - val_accuracy: 0.0979\n",
            "Epoch 26/100\n",
            "375/375 [==============================] - 1s 3ms/step - loss: 1.5445 - accuracy: 0.4691 - val_loss: 3.0162 - val_accuracy: 0.0990\n",
            "Epoch 27/100\n",
            "375/375 [==============================] - 2s 4ms/step - loss: 1.5090 - accuracy: 0.4845 - val_loss: 3.0552 - val_accuracy: 0.0989\n",
            "Epoch 28/100\n",
            "375/375 [==============================] - 2s 6ms/step - loss: 1.4758 - accuracy: 0.4959 - val_loss: 3.1306 - val_accuracy: 0.0968\n",
            "Epoch 29/100\n",
            "375/375 [==============================] - 2s 5ms/step - loss: 1.4450 - accuracy: 0.5084 - val_loss: 3.1760 - val_accuracy: 0.1002\n",
            "Epoch 30/100\n",
            "375/375 [==============================] - 1s 3ms/step - loss: 1.4140 - accuracy: 0.5183 - val_loss: 3.2169 - val_accuracy: 0.1030\n",
            "Epoch 31/100\n",
            "375/375 [==============================] - 1s 3ms/step - loss: 1.3815 - accuracy: 0.5333 - val_loss: 3.2776 - val_accuracy: 0.1007\n",
            "Epoch 32/100\n",
            "375/375 [==============================] - 1s 4ms/step - loss: 1.3536 - accuracy: 0.5407 - val_loss: 3.3415 - val_accuracy: 0.1003\n",
            "Epoch 33/100\n",
            "375/375 [==============================] - 1s 3ms/step - loss: 1.3232 - accuracy: 0.5526 - val_loss: 3.3682 - val_accuracy: 0.0988\n",
            "Epoch 34/100\n",
            "375/375 [==============================] - 1s 3ms/step - loss: 1.2958 - accuracy: 0.5629 - val_loss: 3.4625 - val_accuracy: 0.0968\n",
            "Epoch 35/100\n",
            "375/375 [==============================] - 1s 3ms/step - loss: 1.2687 - accuracy: 0.5723 - val_loss: 3.4811 - val_accuracy: 0.0985\n",
            "Epoch 36/100\n",
            "375/375 [==============================] - 1s 3ms/step - loss: 1.2404 - accuracy: 0.5809 - val_loss: 3.5309 - val_accuracy: 0.1001\n",
            "Epoch 37/100\n",
            "375/375 [==============================] - 1s 3ms/step - loss: 1.2131 - accuracy: 0.5915 - val_loss: 3.5777 - val_accuracy: 0.1037\n",
            "Epoch 38/100\n",
            "375/375 [==============================] - 2s 4ms/step - loss: 1.1883 - accuracy: 0.6017 - val_loss: 3.6212 - val_accuracy: 0.0969\n",
            "Epoch 39/100\n",
            "375/375 [==============================] - 1s 4ms/step - loss: 1.1646 - accuracy: 0.6101 - val_loss: 3.7371 - val_accuracy: 0.1000\n",
            "Epoch 40/100\n",
            "375/375 [==============================] - 1s 3ms/step - loss: 1.1387 - accuracy: 0.6200 - val_loss: 3.7476 - val_accuracy: 0.0971\n",
            "Epoch 41/100\n",
            "375/375 [==============================] - 1s 3ms/step - loss: 1.1142 - accuracy: 0.6283 - val_loss: 3.8260 - val_accuracy: 0.1010\n",
            "Epoch 42/100\n",
            "375/375 [==============================] - 1s 3ms/step - loss: 1.0915 - accuracy: 0.6344 - val_loss: 3.8640 - val_accuracy: 0.1006\n",
            "Epoch 43/100\n",
            "375/375 [==============================] - 1s 3ms/step - loss: 1.0676 - accuracy: 0.6450 - val_loss: 3.9322 - val_accuracy: 0.1034\n",
            "Epoch 44/100\n",
            "375/375 [==============================] - 1s 3ms/step - loss: 1.0476 - accuracy: 0.6517 - val_loss: 3.9916 - val_accuracy: 0.0988\n",
            "Epoch 45/100\n",
            "375/375 [==============================] - 1s 3ms/step - loss: 1.0244 - accuracy: 0.6591 - val_loss: 4.0675 - val_accuracy: 0.1006\n",
            "Epoch 46/100\n",
            "375/375 [==============================] - 1s 3ms/step - loss: 1.0027 - accuracy: 0.6677 - val_loss: 4.1338 - val_accuracy: 0.1046\n",
            "Epoch 47/100\n",
            "375/375 [==============================] - 1s 3ms/step - loss: 0.9822 - accuracy: 0.6736 - val_loss: 4.1936 - val_accuracy: 0.0983\n",
            "Epoch 48/100\n",
            "375/375 [==============================] - 2s 5ms/step - loss: 0.9612 - accuracy: 0.6832 - val_loss: 4.2504 - val_accuracy: 0.1012\n",
            "Epoch 49/100\n",
            "375/375 [==============================] - 1s 3ms/step - loss: 0.9421 - accuracy: 0.6898 - val_loss: 4.2907 - val_accuracy: 0.0988\n",
            "Epoch 50/100\n",
            "375/375 [==============================] - 1s 4ms/step - loss: 0.9222 - accuracy: 0.6952 - val_loss: 4.3631 - val_accuracy: 0.0995\n",
            "Epoch 51/100\n",
            "375/375 [==============================] - 1s 3ms/step - loss: 0.9035 - accuracy: 0.7007 - val_loss: 4.4353 - val_accuracy: 0.0997\n",
            "Epoch 52/100\n",
            "375/375 [==============================] - 1s 3ms/step - loss: 0.8860 - accuracy: 0.7084 - val_loss: 4.5050 - val_accuracy: 0.0993\n",
            "Epoch 53/100\n",
            "375/375 [==============================] - 1s 3ms/step - loss: 0.8679 - accuracy: 0.7153 - val_loss: 4.5333 - val_accuracy: 0.1005\n",
            "Epoch 54/100\n",
            "375/375 [==============================] - 1s 3ms/step - loss: 0.8501 - accuracy: 0.7193 - val_loss: 4.6084 - val_accuracy: 0.1005\n",
            "Epoch 55/100\n",
            "375/375 [==============================] - 1s 3ms/step - loss: 0.8329 - accuracy: 0.7278 - val_loss: 4.6815 - val_accuracy: 0.1011\n",
            "Epoch 56/100\n",
            "375/375 [==============================] - 1s 3ms/step - loss: 0.8162 - accuracy: 0.7329 - val_loss: 4.7943 - val_accuracy: 0.0983\n",
            "Epoch 57/100\n",
            "375/375 [==============================] - 2s 4ms/step - loss: 0.8004 - accuracy: 0.7397 - val_loss: 4.8097 - val_accuracy: 0.0996\n",
            "Epoch 58/100\n",
            "375/375 [==============================] - 1s 4ms/step - loss: 0.7833 - accuracy: 0.7442 - val_loss: 4.8868 - val_accuracy: 0.0980\n",
            "Epoch 59/100\n",
            "375/375 [==============================] - 1s 3ms/step - loss: 0.7686 - accuracy: 0.7476 - val_loss: 4.9716 - val_accuracy: 0.0983\n",
            "Epoch 60/100\n",
            "375/375 [==============================] - 1s 3ms/step - loss: 0.7511 - accuracy: 0.7567 - val_loss: 5.0204 - val_accuracy: 0.1027\n",
            "Epoch 61/100\n",
            "375/375 [==============================] - 1s 4ms/step - loss: 0.7375 - accuracy: 0.7605 - val_loss: 5.0583 - val_accuracy: 0.0991\n",
            "Epoch 62/100\n",
            "375/375 [==============================] - 1s 3ms/step - loss: 0.7210 - accuracy: 0.7679 - val_loss: 5.1950 - val_accuracy: 0.0982\n",
            "Epoch 63/100\n",
            "375/375 [==============================] - 1s 3ms/step - loss: 0.7075 - accuracy: 0.7690 - val_loss: 5.2437 - val_accuracy: 0.0992\n",
            "Epoch 64/100\n",
            "375/375 [==============================] - 1s 3ms/step - loss: 0.6938 - accuracy: 0.7772 - val_loss: 5.3159 - val_accuracy: 0.1007\n",
            "Epoch 65/100\n",
            "375/375 [==============================] - 1s 3ms/step - loss: 0.6792 - accuracy: 0.7792 - val_loss: 5.3717 - val_accuracy: 0.1009\n",
            "Epoch 66/100\n",
            "375/375 [==============================] - 1s 4ms/step - loss: 0.6680 - accuracy: 0.7841 - val_loss: 5.4575 - val_accuracy: 0.0993\n",
            "Epoch 67/100\n",
            "375/375 [==============================] - 2s 5ms/step - loss: 0.6545 - accuracy: 0.7884 - val_loss: 5.5520 - val_accuracy: 0.0995\n",
            "Epoch 68/100\n",
            "375/375 [==============================] - 1s 3ms/step - loss: 0.6404 - accuracy: 0.7935 - val_loss: 5.5850 - val_accuracy: 0.1003\n",
            "Epoch 69/100\n",
            "375/375 [==============================] - 1s 3ms/step - loss: 0.6286 - accuracy: 0.7971 - val_loss: 5.6783 - val_accuracy: 0.0982\n",
            "Epoch 70/100\n",
            "375/375 [==============================] - 1s 3ms/step - loss: 0.6153 - accuracy: 0.8030 - val_loss: 5.7325 - val_accuracy: 0.1007\n",
            "Epoch 71/100\n",
            "375/375 [==============================] - 1s 3ms/step - loss: 0.6035 - accuracy: 0.8055 - val_loss: 5.7854 - val_accuracy: 0.0997\n",
            "Epoch 72/100\n",
            "375/375 [==============================] - 1s 3ms/step - loss: 0.5930 - accuracy: 0.8094 - val_loss: 5.8571 - val_accuracy: 0.1049\n",
            "Epoch 73/100\n",
            "375/375 [==============================] - 2s 5ms/step - loss: 0.5810 - accuracy: 0.8141 - val_loss: 5.9313 - val_accuracy: 0.0989\n",
            "Epoch 74/100\n",
            "375/375 [==============================] - 2s 5ms/step - loss: 0.5683 - accuracy: 0.8179 - val_loss: 6.0222 - val_accuracy: 0.1023\n",
            "Epoch 75/100\n",
            "375/375 [==============================] - 2s 4ms/step - loss: 0.5579 - accuracy: 0.8202 - val_loss: 6.0638 - val_accuracy: 0.1004\n",
            "Epoch 76/100\n",
            "375/375 [==============================] - 1s 3ms/step - loss: 0.5491 - accuracy: 0.8260 - val_loss: 6.1127 - val_accuracy: 0.1055\n",
            "Epoch 77/100\n",
            "375/375 [==============================] - 1s 3ms/step - loss: 0.5347 - accuracy: 0.8282 - val_loss: 6.2124 - val_accuracy: 0.1013\n",
            "Epoch 78/100\n",
            "375/375 [==============================] - 1s 3ms/step - loss: 0.5257 - accuracy: 0.8317 - val_loss: 6.3017 - val_accuracy: 0.1041\n",
            "Epoch 79/100\n",
            "375/375 [==============================] - 1s 3ms/step - loss: 0.5169 - accuracy: 0.8376 - val_loss: 6.3490 - val_accuracy: 0.1026\n",
            "Epoch 80/100\n",
            "375/375 [==============================] - 1s 3ms/step - loss: 0.5061 - accuracy: 0.8400 - val_loss: 6.4793 - val_accuracy: 0.0990\n",
            "Epoch 81/100\n",
            "375/375 [==============================] - 1s 3ms/step - loss: 0.4957 - accuracy: 0.8428 - val_loss: 6.5335 - val_accuracy: 0.1016\n",
            "Epoch 82/100\n",
            "375/375 [==============================] - 1s 4ms/step - loss: 0.4858 - accuracy: 0.8468 - val_loss: 6.5624 - val_accuracy: 0.1013\n",
            "Epoch 83/100\n",
            "375/375 [==============================] - 2s 6ms/step - loss: 0.4795 - accuracy: 0.8490 - val_loss: 6.6431 - val_accuracy: 0.0988\n",
            "Epoch 84/100\n",
            "375/375 [==============================] - 2s 4ms/step - loss: 0.4683 - accuracy: 0.8520 - val_loss: 6.7310 - val_accuracy: 0.1026\n",
            "Epoch 85/100\n",
            "375/375 [==============================] - 1s 3ms/step - loss: 0.4612 - accuracy: 0.8549 - val_loss: 6.7514 - val_accuracy: 0.0999\n",
            "Epoch 86/100\n",
            "375/375 [==============================] - 1s 3ms/step - loss: 0.4523 - accuracy: 0.8591 - val_loss: 6.8572 - val_accuracy: 0.1031\n",
            "Epoch 87/100\n",
            "375/375 [==============================] - 1s 3ms/step - loss: 0.4442 - accuracy: 0.8613 - val_loss: 6.9652 - val_accuracy: 0.1012\n",
            "Epoch 88/100\n",
            "375/375 [==============================] - 1s 3ms/step - loss: 0.4353 - accuracy: 0.8637 - val_loss: 7.0312 - val_accuracy: 0.1003\n",
            "Epoch 89/100\n",
            "375/375 [==============================] - 1s 3ms/step - loss: 0.4264 - accuracy: 0.8685 - val_loss: 7.1040 - val_accuracy: 0.1024\n",
            "Epoch 90/100\n",
            "375/375 [==============================] - 1s 3ms/step - loss: 0.4178 - accuracy: 0.8690 - val_loss: 7.1386 - val_accuracy: 0.0999\n",
            "Epoch 91/100\n",
            "375/375 [==============================] - 1s 3ms/step - loss: 0.4106 - accuracy: 0.8735 - val_loss: 7.2170 - val_accuracy: 0.0972\n",
            "Epoch 92/100\n",
            "375/375 [==============================] - 1s 3ms/step - loss: 0.4037 - accuracy: 0.8755 - val_loss: 7.2854 - val_accuracy: 0.1018\n",
            "Epoch 93/100\n",
            "375/375 [==============================] - 2s 5ms/step - loss: 0.3963 - accuracy: 0.8779 - val_loss: 7.3782 - val_accuracy: 0.1038\n",
            "Epoch 94/100\n",
            "375/375 [==============================] - 1s 3ms/step - loss: 0.3888 - accuracy: 0.8792 - val_loss: 7.4991 - val_accuracy: 0.1005\n",
            "Epoch 95/100\n",
            "375/375 [==============================] - 1s 3ms/step - loss: 0.3831 - accuracy: 0.8812 - val_loss: 7.5316 - val_accuracy: 0.1010\n",
            "Epoch 96/100\n",
            "375/375 [==============================] - 1s 4ms/step - loss: 0.3753 - accuracy: 0.8840 - val_loss: 7.5831 - val_accuracy: 0.1002\n",
            "Epoch 97/100\n",
            "375/375 [==============================] - 1s 3ms/step - loss: 0.3671 - accuracy: 0.8863 - val_loss: 7.6773 - val_accuracy: 0.1033\n",
            "Epoch 98/100\n",
            "375/375 [==============================] - 1s 3ms/step - loss: 0.3631 - accuracy: 0.8888 - val_loss: 7.7642 - val_accuracy: 0.0984\n",
            "Epoch 99/100\n",
            "375/375 [==============================] - 1s 3ms/step - loss: 0.3548 - accuracy: 0.8903 - val_loss: 7.8363 - val_accuracy: 0.1016\n",
            "Epoch 100/100\n",
            "375/375 [==============================] - 1s 4ms/step - loss: 0.3481 - accuracy: 0.8928 - val_loss: 7.9132 - val_accuracy: 0.1018\n"
          ]
        }
      ],
      "source": [
        "(train_images, train_labels), _ = mnist.load_data()\n",
        "train_images = train_images.reshape((60000, 28 * 28))\n",
        "train_images = train_images.astype(\"float32\") / 255\n",
        "\n",
        "random_train_labels = train_labels[:]\n",
        "np.random.shuffle(random_train_labels)\n",
        "\n",
        "model = keras.Sequential([\n",
        "    layers.Dense(512, activation=\"relu\"),\n",
        "    layers.Dense(10, activation=\"softmax\")\n",
        "])\n",
        "model.compile(optimizer=\"rmsprop\",\n",
        "              loss=\"sparse_categorical_crossentropy\",\n",
        "              metrics=[\"accuracy\"])\n",
        "history_rnd = model.fit(train_images, random_train_labels,\n",
        "          epochs=100,\n",
        "          batch_size=128,\n",
        "          validation_split=0.2)"
      ]
    },
    {
      "cell_type": "markdown",
      "metadata": {
        "id": "lOEyhGy3VTuI"
      },
      "source": [
        "#### The manifold hypothesis"
      ]
    },
    {
      "cell_type": "markdown",
      "metadata": {
        "id": "eF3r_ElTVTuI"
      },
      "source": [
        "#### Interpolation as a source of generalization"
      ]
    },
    {
      "cell_type": "markdown",
      "metadata": {
        "id": "6eDiSIJIVTuI"
      },
      "source": [
        "#### Why deep learning works"
      ]
    },
    {
      "cell_type": "markdown",
      "metadata": {
        "id": "MTznEdhhVTuI"
      },
      "source": [
        "#### Training data is paramount"
      ]
    },
    {
      "cell_type": "markdown",
      "metadata": {
        "id": "_wdjzQv4VTuI"
      },
      "source": [
        "## Evaluating machine-learning models"
      ]
    },
    {
      "cell_type": "markdown",
      "metadata": {
        "id": "Ue0b-qgrVTuI"
      },
      "source": [
        "### Training, validation, and test sets"
      ]
    },
    {
      "cell_type": "markdown",
      "metadata": {
        "id": "Bp3BeVNOVTuJ"
      },
      "source": [
        "#### Simple hold-out validation"
      ]
    },
    {
      "cell_type": "markdown",
      "metadata": {
        "id": "shXwe1knVTuJ"
      },
      "source": [
        "#### K-fold validation"
      ]
    },
    {
      "cell_type": "markdown",
      "metadata": {
        "id": "PKVskHcNVTuJ"
      },
      "source": [
        "#### Iterated K-fold validation with shuffling"
      ]
    },
    {
      "cell_type": "markdown",
      "metadata": {
        "id": "ogfR68A0VTuJ"
      },
      "source": [
        "### Beating a common-sense baseline"
      ]
    },
    {
      "cell_type": "markdown",
      "metadata": {
        "id": "gsmtIcc3VTuJ"
      },
      "source": [
        "### Things to keep in mind about model evaluation"
      ]
    },
    {
      "cell_type": "markdown",
      "metadata": {
        "id": "4KjmjeAuVTuJ"
      },
      "source": [
        "## Improving model fit"
      ]
    },
    {
      "cell_type": "markdown",
      "metadata": {
        "id": "NHWuke7yVTuJ"
      },
      "source": [
        "### Tuning key gradient descent parameters"
      ]
    },
    {
      "cell_type": "markdown",
      "metadata": {
        "id": "82GZJn-JVTuK"
      },
      "source": [
        "**Training a MNIST model with an incorrectly high learning rate**"
      ]
    },
    {
      "cell_type": "code",
      "execution_count": null,
      "metadata": {
        "id": "tP_xmRw8VTuK"
      },
      "outputs": [],
      "source": [
        "(train_images, train_labels), _ = mnist.load_data()\n",
        "train_images = train_images.reshape((60000, 28 * 28))\n",
        "train_images = train_images.astype(\"float32\") / 255\n",
        "\n",
        "model = keras.Sequential([\n",
        "    layers.Dense(512, activation=\"relu\"),\n",
        "    layers.Dense(10, activation=\"softmax\")\n",
        "])\n",
        "model.compile(optimizer=keras.optimizers.RMSprop(1.),\n",
        "              loss=\"sparse_categorical_crossentropy\",\n",
        "              metrics=[\"accuracy\"])\n",
        "model.fit(train_images, train_labels,\n",
        "          epochs=10,\n",
        "          batch_size=128,\n",
        "          validation_split=0.2)"
      ]
    },
    {
      "cell_type": "markdown",
      "metadata": {
        "id": "_5WSKQ7YVTuK"
      },
      "source": [
        "**The same model with a more appropriate learning rate**"
      ]
    },
    {
      "cell_type": "code",
      "execution_count": null,
      "metadata": {
        "id": "LhF70BlhVTuK"
      },
      "outputs": [],
      "source": [
        "model = keras.Sequential([\n",
        "    layers.Dense(512, activation=\"relu\"),\n",
        "    layers.Dense(10, activation=\"softmax\")\n",
        "])\n",
        "model.compile(optimizer=keras.optimizers.RMSprop(1e-2),\n",
        "              loss=\"sparse_categorical_crossentropy\",\n",
        "              metrics=[\"accuracy\"])\n",
        "model.fit(train_images, train_labels,\n",
        "          epochs=10,\n",
        "          batch_size=128,\n",
        "          validation_split=0.2)"
      ]
    },
    {
      "cell_type": "markdown",
      "metadata": {
        "id": "Qxwl2MJsVTuL"
      },
      "source": [
        "### Leveraging better architecture priors"
      ]
    },
    {
      "cell_type": "markdown",
      "metadata": {
        "id": "6pvm67neVTuL"
      },
      "source": [
        "### Increasing model capacity"
      ]
    },
    {
      "cell_type": "markdown",
      "metadata": {
        "id": "Jomk3T8VVTuL"
      },
      "source": [
        "**A simple logistic regression on MNIST**"
      ]
    },
    {
      "cell_type": "code",
      "execution_count": 20,
      "metadata": {
        "id": "wxd5FvAmVTuL",
        "outputId": "7d30eaf5-a533-48ab-91a3-aaaf9abe239d",
        "colab": {
          "base_uri": "https://localhost:8080/"
        }
      },
      "outputs": [
        {
          "output_type": "stream",
          "name": "stdout",
          "text": [
            "Epoch 1/20\n",
            "375/375 [==============================] - 2s 4ms/step - loss: 2.3306 - accuracy: 0.0981 - val_loss: 2.3220 - val_accuracy: 0.0999\n",
            "Epoch 2/20\n",
            "375/375 [==============================] - 2s 4ms/step - loss: 2.3136 - accuracy: 0.1066 - val_loss: 2.3256 - val_accuracy: 0.1042\n",
            "Epoch 3/20\n",
            "375/375 [==============================] - 1s 3ms/step - loss: 2.3074 - accuracy: 0.1142 - val_loss: 2.3153 - val_accuracy: 0.1042\n",
            "Epoch 4/20\n",
            "375/375 [==============================] - 1s 3ms/step - loss: 2.3029 - accuracy: 0.1175 - val_loss: 2.3181 - val_accuracy: 0.1058\n",
            "Epoch 5/20\n",
            "375/375 [==============================] - 1s 3ms/step - loss: 2.3001 - accuracy: 0.1200 - val_loss: 2.3180 - val_accuracy: 0.1043\n",
            "Epoch 6/20\n",
            "375/375 [==============================] - 1s 3ms/step - loss: 2.2971 - accuracy: 0.1211 - val_loss: 2.3227 - val_accuracy: 0.1045\n",
            "Epoch 7/20\n",
            "375/375 [==============================] - 1s 3ms/step - loss: 2.2958 - accuracy: 0.1233 - val_loss: 2.3203 - val_accuracy: 0.1069\n",
            "Epoch 8/20\n",
            "375/375 [==============================] - 1s 3ms/step - loss: 2.2934 - accuracy: 0.1253 - val_loss: 2.3259 - val_accuracy: 0.1008\n",
            "Epoch 9/20\n",
            "375/375 [==============================] - 1s 3ms/step - loss: 2.2920 - accuracy: 0.1277 - val_loss: 2.3266 - val_accuracy: 0.1001\n",
            "Epoch 10/20\n",
            "375/375 [==============================] - 1s 3ms/step - loss: 2.2902 - accuracy: 0.1283 - val_loss: 2.3252 - val_accuracy: 0.1053\n",
            "Epoch 11/20\n",
            "375/375 [==============================] - 1s 3ms/step - loss: 2.2895 - accuracy: 0.1270 - val_loss: 2.3266 - val_accuracy: 0.1063\n",
            "Epoch 12/20\n",
            "375/375 [==============================] - 2s 4ms/step - loss: 2.2878 - accuracy: 0.1318 - val_loss: 2.3290 - val_accuracy: 0.1039\n",
            "Epoch 13/20\n",
            "375/375 [==============================] - 1s 3ms/step - loss: 2.2872 - accuracy: 0.1307 - val_loss: 2.3269 - val_accuracy: 0.1026\n",
            "Epoch 14/20\n",
            "375/375 [==============================] - 1s 3ms/step - loss: 2.2861 - accuracy: 0.1336 - val_loss: 2.3291 - val_accuracy: 0.1058\n",
            "Epoch 15/20\n",
            "375/375 [==============================] - 1s 3ms/step - loss: 2.2848 - accuracy: 0.1340 - val_loss: 2.3299 - val_accuracy: 0.1046\n",
            "Epoch 16/20\n",
            "375/375 [==============================] - 1s 3ms/step - loss: 2.2843 - accuracy: 0.1329 - val_loss: 2.3320 - val_accuracy: 0.1000\n",
            "Epoch 17/20\n",
            "375/375 [==============================] - 2s 4ms/step - loss: 2.2834 - accuracy: 0.1334 - val_loss: 2.3294 - val_accuracy: 0.1029\n",
            "Epoch 18/20\n",
            "375/375 [==============================] - 1s 3ms/step - loss: 2.2825 - accuracy: 0.1351 - val_loss: 2.3311 - val_accuracy: 0.1003\n",
            "Epoch 19/20\n",
            "375/375 [==============================] - 1s 3ms/step - loss: 2.2822 - accuracy: 0.1360 - val_loss: 2.3345 - val_accuracy: 0.1038\n",
            "Epoch 20/20\n",
            "375/375 [==============================] - 1s 3ms/step - loss: 2.2815 - accuracy: 0.1345 - val_loss: 2.3324 - val_accuracy: 0.1040\n"
          ]
        }
      ],
      "source": [
        "model = keras.Sequential([layers.Dense(10, activation=\"softmax\")])\n",
        "model.compile(optimizer=\"rmsprop\",\n",
        "              loss=\"sparse_categorical_crossentropy\",\n",
        "              metrics=[\"accuracy\"])\n",
        "history_small_model = model.fit(\n",
        "    train_images, train_labels,\n",
        "    epochs=20,\n",
        "    batch_size=128,\n",
        "    validation_split=0.2)"
      ]
    },
    {
      "cell_type": "code",
      "execution_count": 23,
      "metadata": {
        "id": "WHh1SmRKVTuM",
        "outputId": "aff0a5d7-231b-4dc4-9712-47135b0d7cff",
        "colab": {
          "base_uri": "https://localhost:8080/",
          "height": 489
        }
      },
      "outputs": [
        {
          "output_type": "execute_result",
          "data": {
            "text/plain": [
              "<matplotlib.legend.Legend at 0x7be9ddebfac0>"
            ]
          },
          "metadata": {},
          "execution_count": 23
        },
        {
          "output_type": "display_data",
          "data": {
            "text/plain": [
              "<Figure size 640x480 with 1 Axes>"
            ],
            "image/png": "[encoded data removed]"
          },
          "metadata": {}
        }
      ],
      "source": [
        "import matplotlib.pyplot as plt\n",
        "val_loss = history_small_model.history[\"val_loss\"]\n",
        "epochs = range(1, 21)\n",
        "plt.plot(epochs, val_loss, \"b--\",\n",
        "         label=\"Validation loss\")\n",
        "plt.title(\"Effect of insufficient model capacity on validation loss\")\n",
        "plt.xlabel(\"Epochs\")\n",
        "plt.ylabel(\"Loss\")\n",
        "plt.legend()"
      ]
    },
    {
      "cell_type": "code",
      "execution_count": 24,
      "metadata": {
        "id": "8AZArmPXVTuM",
        "outputId": "c3c6cb9b-b819-4bce-e1ff-642840543b32",
        "colab": {
          "base_uri": "https://localhost:8080/"
        }
      },
      "outputs": [
        {
          "output_type": "stream",
          "name": "stdout",
          "text": [
            "Epoch 1/20\n",
            "375/375 [==============================] - 2s 4ms/step - loss: 2.3060 - accuracy: 0.1062 - val_loss: 2.3028 - val_accuracy: 0.1128\n",
            "Epoch 2/20\n",
            "375/375 [==============================] - 1s 4ms/step - loss: 2.3014 - accuracy: 0.1120 - val_loss: 2.3033 - val_accuracy: 0.1059\n",
            "Epoch 3/20\n",
            "375/375 [==============================] - 1s 4ms/step - loss: 2.2993 - accuracy: 0.1160 - val_loss: 2.3058 - val_accuracy: 0.1013\n",
            "Epoch 4/20\n",
            "375/375 [==============================] - 2s 4ms/step - loss: 2.2952 - accuracy: 0.1195 - val_loss: 2.3067 - val_accuracy: 0.1050\n",
            "Epoch 5/20\n",
            "375/375 [==============================] - 2s 5ms/step - loss: 2.2902 - accuracy: 0.1284 - val_loss: 2.3086 - val_accuracy: 0.1048\n",
            "Epoch 6/20\n",
            "375/375 [==============================] - 1s 4ms/step - loss: 2.2836 - accuracy: 0.1335 - val_loss: 2.3194 - val_accuracy: 0.1009\n",
            "Epoch 7/20\n",
            "375/375 [==============================] - 1s 4ms/step - loss: 2.2750 - accuracy: 0.1407 - val_loss: 2.3208 - val_accuracy: 0.1046\n",
            "Epoch 8/20\n",
            "375/375 [==============================] - 1s 4ms/step - loss: 2.2660 - accuracy: 0.1481 - val_loss: 2.3275 - val_accuracy: 0.1029\n",
            "Epoch 9/20\n",
            "375/375 [==============================] - 1s 3ms/step - loss: 2.2554 - accuracy: 0.1548 - val_loss: 2.3406 - val_accuracy: 0.1030\n",
            "Epoch 10/20\n",
            "375/375 [==============================] - 1s 4ms/step - loss: 2.2439 - accuracy: 0.1614 - val_loss: 2.3475 - val_accuracy: 0.1018\n",
            "Epoch 11/20\n",
            "375/375 [==============================] - 1s 3ms/step - loss: 2.2311 - accuracy: 0.1711 - val_loss: 2.3688 - val_accuracy: 0.0989\n",
            "Epoch 12/20\n",
            "375/375 [==============================] - 1s 4ms/step - loss: 2.2179 - accuracy: 0.1784 - val_loss: 2.3756 - val_accuracy: 0.1033\n",
            "Epoch 13/20\n",
            "375/375 [==============================] - 2s 5ms/step - loss: 2.2045 - accuracy: 0.1862 - val_loss: 2.3802 - val_accuracy: 0.0994\n",
            "Epoch 14/20\n",
            "375/375 [==============================] - 1s 4ms/step - loss: 2.1910 - accuracy: 0.1923 - val_loss: 2.3997 - val_accuracy: 0.1008\n",
            "Epoch 15/20\n",
            "375/375 [==============================] - 1s 4ms/step - loss: 2.1764 - accuracy: 0.1997 - val_loss: 2.4016 - val_accuracy: 0.1034\n",
            "Epoch 16/20\n",
            "375/375 [==============================] - 1s 4ms/step - loss: 2.1631 - accuracy: 0.2037 - val_loss: 2.4229 - val_accuracy: 0.1008\n",
            "Epoch 17/20\n",
            "375/375 [==============================] - 1s 3ms/step - loss: 2.1481 - accuracy: 0.2129 - val_loss: 2.4364 - val_accuracy: 0.0999\n",
            "Epoch 18/20\n",
            "375/375 [==============================] - 1s 3ms/step - loss: 2.1345 - accuracy: 0.2208 - val_loss: 2.4464 - val_accuracy: 0.0964\n",
            "Epoch 19/20\n",
            "375/375 [==============================] - 1s 4ms/step - loss: 2.1208 - accuracy: 0.2275 - val_loss: 2.4606 - val_accuracy: 0.1011\n",
            "Epoch 20/20\n",
            "375/375 [==============================] - 1s 3ms/step - loss: 2.1076 - accuracy: 0.2297 - val_loss: 2.4672 - val_accuracy: 0.1011\n"
          ]
        }
      ],
      "source": [
        "model = keras.Sequential([\n",
        "    layers.Dense(96, activation=\"relu\"),\n",
        "    layers.Dense(96, activation=\"relu\"),\n",
        "    layers.Dense(10, activation=\"softmax\"),\n",
        "])\n",
        "model.compile(optimizer=\"rmsprop\",\n",
        "              loss=\"sparse_categorical_crossentropy\",\n",
        "              metrics=[\"accuracy\"])\n",
        "history_large_model = model.fit(\n",
        "    train_images, train_labels,\n",
        "    epochs=20,\n",
        "    batch_size=128,\n",
        "    validation_split=0.2)"
      ]
    },
    {
      "cell_type": "markdown",
      "metadata": {
        "id": "y3wxbt15VTuS"
      },
      "source": [
        "## Improving generalization"
      ]
    },
    {
      "cell_type": "markdown",
      "metadata": {
        "id": "Or-LJD6TVTuT"
      },
      "source": [
        "### Dataset curation"
      ]
    },
    {
      "cell_type": "markdown",
      "metadata": {
        "id": "BIRO6PRbVTuT"
      },
      "source": [
        "### Feature engineering"
      ]
    },
    {
      "cell_type": "markdown",
      "metadata": {
        "id": "bQW5I2acVTuT"
      },
      "source": [
        "### Using early stopping"
      ]
    },
    {
      "cell_type": "markdown",
      "metadata": {
        "id": "PqPB1VX6VTuT"
      },
      "source": [
        "### Regularizing your model"
      ]
    },
    {
      "cell_type": "markdown",
      "metadata": {
        "id": "JkBhFImIVTuU"
      },
      "source": [
        "#### Reducing the network's size"
      ]
    },
    {
      "cell_type": "markdown",
      "metadata": {
        "id": "JznGBW8OVTuU"
      },
      "source": [
        "**Original model**"
      ]
    },
    {
      "cell_type": "code",
      "execution_count": 25,
      "metadata": {
        "id": "NFdUTggKVTuU",
        "outputId": "8d74df69-fc92-422a-8689-94ed9b330f89",
        "colab": {
          "base_uri": "https://localhost:8080/"
        }
      },
      "outputs": [
        {
          "output_type": "stream",
          "name": "stdout",
          "text": [
            "Downloading data from https://storage.googleapis.com/tensorflow/tf-keras-datasets/imdb.npz\n",
            "17464789/17464789 [==============================] - 2s 0us/step\n",
            "Epoch 1/20\n",
            "30/30 [==============================] - 4s 91ms/step - loss: 0.5444 - accuracy: 0.7768 - val_loss: 0.4217 - val_accuracy: 0.8657\n",
            "Epoch 2/20\n",
            "30/30 [==============================] - 1s 25ms/step - loss: 0.3494 - accuracy: 0.8895 - val_loss: 0.3404 - val_accuracy: 0.8702\n",
            "Epoch 3/20\n",
            "30/30 [==============================] - 1s 23ms/step - loss: 0.2643 - accuracy: 0.9121 - val_loss: 0.2909 - val_accuracy: 0.8893\n",
            "Epoch 4/20\n",
            "30/30 [==============================] - 1s 22ms/step - loss: 0.2159 - accuracy: 0.9291 - val_loss: 0.2873 - val_accuracy: 0.8844\n",
            "Epoch 5/20\n",
            "30/30 [==============================] - 1s 25ms/step - loss: 0.1815 - accuracy: 0.9407 - val_loss: 0.2840 - val_accuracy: 0.8852\n",
            "Epoch 6/20\n",
            "30/30 [==============================] - 1s 23ms/step - loss: 0.1569 - accuracy: 0.9485 - val_loss: 0.2777 - val_accuracy: 0.8909\n",
            "Epoch 7/20\n",
            "30/30 [==============================] - 1s 21ms/step - loss: 0.1366 - accuracy: 0.9567 - val_loss: 0.2991 - val_accuracy: 0.8819\n",
            "Epoch 8/20\n",
            "30/30 [==============================] - 1s 25ms/step - loss: 0.1212 - accuracy: 0.9625 - val_loss: 0.2945 - val_accuracy: 0.8855\n",
            "Epoch 9/20\n",
            "30/30 [==============================] - 1s 24ms/step - loss: 0.1051 - accuracy: 0.9687 - val_loss: 0.3076 - val_accuracy: 0.8840\n",
            "Epoch 10/20\n",
            "30/30 [==============================] - 1s 23ms/step - loss: 0.0920 - accuracy: 0.9741 - val_loss: 0.3245 - val_accuracy: 0.8809\n",
            "Epoch 11/20\n",
            "30/30 [==============================] - 1s 25ms/step - loss: 0.0807 - accuracy: 0.9785 - val_loss: 0.3405 - val_accuracy: 0.8794\n",
            "Epoch 12/20\n",
            "30/30 [==============================] - 1s 22ms/step - loss: 0.0692 - accuracy: 0.9837 - val_loss: 0.3597 - val_accuracy: 0.8790\n",
            "Epoch 13/20\n",
            "30/30 [==============================] - 1s 24ms/step - loss: 0.0627 - accuracy: 0.9853 - val_loss: 0.3760 - val_accuracy: 0.8781\n",
            "Epoch 14/20\n",
            "30/30 [==============================] - 1s 22ms/step - loss: 0.0531 - accuracy: 0.9877 - val_loss: 0.3931 - val_accuracy: 0.8760\n",
            "Epoch 15/20\n",
            "30/30 [==============================] - 1s 22ms/step - loss: 0.0468 - accuracy: 0.9896 - val_loss: 0.4143 - val_accuracy: 0.8750\n",
            "Epoch 16/20\n",
            "30/30 [==============================] - 1s 37ms/step - loss: 0.0395 - accuracy: 0.9920 - val_loss: 0.4629 - val_accuracy: 0.8718\n",
            "Epoch 17/20\n",
            "30/30 [==============================] - 1s 40ms/step - loss: 0.0332 - accuracy: 0.9943 - val_loss: 0.4975 - val_accuracy: 0.8680\n",
            "Epoch 18/20\n",
            "30/30 [==============================] - 1s 23ms/step - loss: 0.0304 - accuracy: 0.9947 - val_loss: 0.4807 - val_accuracy: 0.8701\n",
            "Epoch 19/20\n",
            "30/30 [==============================] - 1s 25ms/step - loss: 0.0249 - accuracy: 0.9961 - val_loss: 0.5071 - val_accuracy: 0.8706\n",
            "Epoch 20/20\n",
            "30/30 [==============================] - 1s 24ms/step - loss: 0.0220 - accuracy: 0.9964 - val_loss: 0.5268 - val_accuracy: 0.8717\n"
          ]
        }
      ],
      "source": [
        "from tensorflow.keras.datasets import imdb\n",
        "(train_data, train_labels), _ = imdb.load_data(num_words=10000)\n",
        "\n",
        "def vectorize_sequences(sequences, dimension=10000):\n",
        "    results = np.zeros((len(sequences), dimension))\n",
        "    for i, sequence in enumerate(sequences):\n",
        "        results[i, sequence] = 1.\n",
        "    return results\n",
        "train_data = vectorize_sequences(train_data)\n",
        "\n",
        "model = keras.Sequential([\n",
        "    layers.Dense(16, activation=\"relu\"),\n",
        "    layers.Dense(16, activation=\"relu\"),\n",
        "    layers.Dense(1, activation=\"sigmoid\")\n",
        "])\n",
        "model.compile(optimizer=\"rmsprop\",\n",
        "              loss=\"binary_crossentropy\",\n",
        "              metrics=[\"accuracy\"])\n",
        "history_original = model.fit(train_data, train_labels,\n",
        "                             epochs=20, batch_size=512, validation_split=0.4)"
      ]
    },
    {
      "cell_type": "markdown",
      "metadata": {
        "id": "GyH1j29HVTuU"
      },
      "source": [
        "**Version of the model with lower capacity**"
      ]
    },
    {
      "cell_type": "code",
      "execution_count": 26,
      "metadata": {
        "id": "euxMCCmuVTuU",
        "outputId": "02fbc741-1453-4130-fb22-c7fbcb4ca307",
        "colab": {
          "base_uri": "https://localhost:8080/"
        }
      },
      "outputs": [
        {
          "output_type": "stream",
          "name": "stdout",
          "text": [
            "Epoch 1/20\n",
            "30/30 [==============================] - 3s 66ms/step - loss: 0.6339 - accuracy: 0.6299 - val_loss: 0.5870 - val_accuracy: 0.6729\n",
            "Epoch 2/20\n",
            "30/30 [==============================] - 1s 25ms/step - loss: 0.5552 - accuracy: 0.7589 - val_loss: 0.5405 - val_accuracy: 0.7706\n",
            "Epoch 3/20\n",
            "30/30 [==============================] - 1s 25ms/step - loss: 0.5093 - accuracy: 0.8235 - val_loss: 0.5103 - val_accuracy: 0.8039\n",
            "Epoch 4/20\n",
            "30/30 [==============================] - 1s 23ms/step - loss: 0.4742 - accuracy: 0.8609 - val_loss: 0.4915 - val_accuracy: 0.8128\n",
            "Epoch 5/20\n",
            "30/30 [==============================] - 1s 29ms/step - loss: 0.4465 - accuracy: 0.8881 - val_loss: 0.4720 - val_accuracy: 0.8441\n",
            "Epoch 6/20\n",
            "30/30 [==============================] - 1s 30ms/step - loss: 0.4232 - accuracy: 0.9061 - val_loss: 0.4565 - val_accuracy: 0.8705\n",
            "Epoch 7/20\n",
            "30/30 [==============================] - 1s 29ms/step - loss: 0.4033 - accuracy: 0.9216 - val_loss: 0.4501 - val_accuracy: 0.8634\n",
            "Epoch 8/20\n",
            "30/30 [==============================] - 1s 24ms/step - loss: 0.3852 - accuracy: 0.9323 - val_loss: 0.4483 - val_accuracy: 0.8574\n",
            "Epoch 9/20\n",
            "30/30 [==============================] - 1s 24ms/step - loss: 0.3689 - accuracy: 0.9425 - val_loss: 0.4405 - val_accuracy: 0.8680\n",
            "Epoch 10/20\n",
            "30/30 [==============================] - 1s 22ms/step - loss: 0.3545 - accuracy: 0.9506 - val_loss: 0.4421 - val_accuracy: 0.8653\n",
            "Epoch 11/20\n",
            "30/30 [==============================] - 1s 25ms/step - loss: 0.3406 - accuracy: 0.9573 - val_loss: 0.4447 - val_accuracy: 0.8631\n",
            "Epoch 12/20\n",
            "30/30 [==============================] - 1s 22ms/step - loss: 0.3279 - accuracy: 0.9629 - val_loss: 0.4451 - val_accuracy: 0.8651\n",
            "Epoch 13/20\n",
            "30/30 [==============================] - 1s 25ms/step - loss: 0.3156 - accuracy: 0.9671 - val_loss: 0.4266 - val_accuracy: 0.8781\n",
            "Epoch 14/20\n",
            "30/30 [==============================] - 1s 23ms/step - loss: 0.3048 - accuracy: 0.9715 - val_loss: 0.4260 - val_accuracy: 0.8795\n",
            "Epoch 15/20\n",
            "30/30 [==============================] - 1s 22ms/step - loss: 0.2938 - accuracy: 0.9752 - val_loss: 0.4275 - val_accuracy: 0.8787\n",
            "Epoch 16/20\n",
            "30/30 [==============================] - 1s 23ms/step - loss: 0.2838 - accuracy: 0.9781 - val_loss: 0.4724 - val_accuracy: 0.8604\n",
            "Epoch 17/20\n",
            "30/30 [==============================] - 1s 24ms/step - loss: 0.2748 - accuracy: 0.9801 - val_loss: 0.4647 - val_accuracy: 0.8669\n",
            "Epoch 18/20\n",
            "30/30 [==============================] - 1s 25ms/step - loss: 0.2653 - accuracy: 0.9826 - val_loss: 0.4819 - val_accuracy: 0.8631\n",
            "Epoch 19/20\n",
            "30/30 [==============================] - 1s 22ms/step - loss: 0.2569 - accuracy: 0.9845 - val_loss: 0.4767 - val_accuracy: 0.8672\n",
            "Epoch 20/20\n",
            "30/30 [==============================] - 1s 22ms/step - loss: 0.2486 - accuracy: 0.9863 - val_loss: 0.4732 - val_accuracy: 0.8698\n"
          ]
        }
      ],
      "source": [
        "model = keras.Sequential([\n",
        "    layers.Dense(4, activation=\"relu\"),\n",
        "    layers.Dense(4, activation=\"relu\"),\n",
        "    layers.Dense(1, activation=\"sigmoid\")\n",
        "])\n",
        "model.compile(optimizer=\"rmsprop\",\n",
        "              loss=\"binary_crossentropy\",\n",
        "              metrics=[\"accuracy\"])\n",
        "history_smaller_model = model.fit(\n",
        "    train_data, train_labels,\n",
        "    epochs=20, batch_size=512, validation_split=0.4)"
      ]
    },
    {
      "cell_type": "markdown",
      "metadata": {
        "id": "_KI1cGxlVTuV"
      },
      "source": [
        "**Version of the model with higher capacity**"
      ]
    },
    {
      "cell_type": "code",
      "execution_count": 27,
      "metadata": {
        "id": "1Q-O7qEvVTuV",
        "outputId": "f9ce86ba-1af4-4481-9350-ada39b77f354",
        "colab": {
          "base_uri": "https://localhost:8080/"
        }
      },
      "outputs": [
        {
          "output_type": "stream",
          "name": "stdout",
          "text": [
            "Epoch 1/20\n",
            "30/30 [==============================] - 3s 72ms/step - loss: 0.5558 - accuracy: 0.7173 - val_loss: 0.5868 - val_accuracy: 0.7214\n",
            "Epoch 2/20\n",
            "30/30 [==============================] - 1s 28ms/step - loss: 0.3308 - accuracy: 0.8625 - val_loss: 0.2953 - val_accuracy: 0.8794\n",
            "Epoch 3/20\n",
            "30/30 [==============================] - 1s 26ms/step - loss: 0.2408 - accuracy: 0.8998 - val_loss: 0.2993 - val_accuracy: 0.8780\n",
            "Epoch 4/20\n",
            "30/30 [==============================] - 1s 28ms/step - loss: 0.1816 - accuracy: 0.9291 - val_loss: 0.3679 - val_accuracy: 0.8595\n",
            "Epoch 5/20\n",
            "30/30 [==============================] - 1s 28ms/step - loss: 0.1391 - accuracy: 0.9515 - val_loss: 0.2994 - val_accuracy: 0.8854\n",
            "Epoch 6/20\n",
            "30/30 [==============================] - 1s 26ms/step - loss: 0.1125 - accuracy: 0.9599 - val_loss: 0.3573 - val_accuracy: 0.8522\n",
            "Epoch 7/20\n",
            "30/30 [==============================] - 1s 26ms/step - loss: 0.0817 - accuracy: 0.9731 - val_loss: 0.3053 - val_accuracy: 0.8882\n",
            "Epoch 8/20\n",
            "30/30 [==============================] - 1s 27ms/step - loss: 0.0597 - accuracy: 0.9826 - val_loss: 0.3205 - val_accuracy: 0.8864\n",
            "Epoch 9/20\n",
            "30/30 [==============================] - 1s 26ms/step - loss: 0.0162 - accuracy: 0.9978 - val_loss: 0.6710 - val_accuracy: 0.8357\n",
            "Epoch 10/20\n",
            "30/30 [==============================] - 1s 27ms/step - loss: 0.0621 - accuracy: 0.9830 - val_loss: 0.4353 - val_accuracy: 0.8839\n",
            "Epoch 11/20\n",
            "30/30 [==============================] - 1s 34ms/step - loss: 0.0052 - accuracy: 0.9994 - val_loss: 0.6150 - val_accuracy: 0.8675\n",
            "Epoch 12/20\n",
            "30/30 [==============================] - 1s 34ms/step - loss: 0.0699 - accuracy: 0.9841 - val_loss: 0.4579 - val_accuracy: 0.8840\n",
            "Epoch 13/20\n",
            "30/30 [==============================] - 1s 29ms/step - loss: 0.0026 - accuracy: 0.9998 - val_loss: 0.5304 - val_accuracy: 0.8840\n",
            "Epoch 14/20\n",
            "30/30 [==============================] - 1s 26ms/step - loss: 0.0015 - accuracy: 1.0000 - val_loss: 0.5770 - val_accuracy: 0.8824\n",
            "Epoch 15/20\n",
            "30/30 [==============================] - 1s 27ms/step - loss: 7.5867e-04 - accuracy: 1.0000 - val_loss: 0.8219 - val_accuracy: 0.8569\n",
            "Epoch 16/20\n",
            "30/30 [==============================] - 1s 25ms/step - loss: 0.0998 - accuracy: 0.9803 - val_loss: 0.5022 - val_accuracy: 0.8822\n",
            "Epoch 17/20\n",
            "30/30 [==============================] - 1s 28ms/step - loss: 0.0013 - accuracy: 1.0000 - val_loss: 0.5755 - val_accuracy: 0.8828\n",
            "Epoch 18/20\n",
            "30/30 [==============================] - 1s 29ms/step - loss: 6.6951e-04 - accuracy: 1.0000 - val_loss: 0.6371 - val_accuracy: 0.8838\n",
            "Epoch 19/20\n",
            "30/30 [==============================] - 1s 27ms/step - loss: 4.3342e-04 - accuracy: 1.0000 - val_loss: 0.6728 - val_accuracy: 0.8817\n",
            "Epoch 20/20\n",
            "30/30 [==============================] - 1s 26ms/step - loss: 3.1176e-04 - accuracy: 1.0000 - val_loss: 0.6929 - val_accuracy: 0.8827\n"
          ]
        }
      ],
      "source": [
        "model = keras.Sequential([\n",
        "    layers.Dense(512, activation=\"relu\"),\n",
        "    layers.Dense(512, activation=\"relu\"),\n",
        "    layers.Dense(1, activation=\"sigmoid\")\n",
        "])\n",
        "model.compile(optimizer=\"rmsprop\",\n",
        "              loss=\"binary_crossentropy\",\n",
        "              metrics=[\"accuracy\"])\n",
        "history_larger_model = model.fit(\n",
        "    train_data, train_labels,\n",
        "    epochs=20, batch_size=512, validation_split=0.4)"
      ]
    },
    {
      "cell_type": "code",
      "source": [
        "#Visualizing the three models above:\n",
        "\n",
        "import matplotlib.pyplot as plt\n",
        "val_loss_original = history_larger_model.history[\"val_loss\"]\n",
        "val_loss_low = history_smaller_model.history[\"val_loss\"]\n",
        "val_loss_high = history_original.history[\"val_loss\"]\n",
        "epochs = range(1, 21)\n",
        "plt.plot(epochs, val_loss_original, \"r--\",\n",
        "         label=\"Validation loss Original model\")\n",
        "plt.plot(epochs, val_loss_low, \"b--\",\n",
        "         label=\"Validation smaller model\")\n",
        "plt.plot(epochs, val_loss_high, \"y--\",\n",
        "         label=\"Validation larger model\")\n",
        "plt.title(\"Difference in validation loss for original, smaller and larger model\")\n",
        "plt.xlabel(\"Epochs\")\n",
        "plt.ylabel(\"Validation Loss\")\n",
        "plt.legend()"
      ],
      "metadata": {
        "id": "gyBik3-GeJxB",
        "outputId": "b01f3a8c-316a-4f6b-b988-50cbae8ab0c9",
        "colab": {
          "base_uri": "https://localhost:8080/",
          "height": 489
        }
      },
      "execution_count": 37,
      "outputs": [
        {
          "output_type": "execute_result",
          "data": {
            "text/plain": [
              "<matplotlib.legend.Legend at 0x7be9018b2170>"
            ]
          },
          "metadata": {},
          "execution_count": 37
        },
        {
          "output_type": "display_data",
          "data": {
            "text/plain": [
              "<Figure size 640x480 with 1 Axes>"
            ],
            "image/png": "[encoded data removed]"
          },
          "metadata": {}
        }
      ]
    },
    {
      "cell_type": "code",
      "source": [],
      "metadata": {
        "id": "WD9hj0Y9eJte"
      },
      "execution_count": null,
      "outputs": []
    },
    {
      "cell_type": "code",
      "source": [],
      "metadata": {
        "id": "vHPzVAR0eJp8"
      },
      "execution_count": null,
      "outputs": []
    },
    {
      "cell_type": "code",
      "source": [],
      "metadata": {
        "id": "XR1AcBiHeJmy"
      },
      "execution_count": null,
      "outputs": []
    },
    {
      "cell_type": "markdown",
      "metadata": {
        "id": "TOL8Tj2qVTuV"
      },
      "source": [
        "#### Adding weight regularization"
      ]
    },
    {
      "cell_type": "markdown",
      "metadata": {
        "id": "U6Gu3YHMVTuV"
      },
      "source": [
        "**Adding L2 weight regularization to the model**"
      ]
    },
    {
      "cell_type": "code",
      "execution_count": 28,
      "metadata": {
        "id": "f0Z5QCISVTuV",
        "outputId": "1400b3fc-fc0f-410c-e40f-f408d6f56f0e",
        "colab": {
          "base_uri": "https://localhost:8080/"
        }
      },
      "outputs": [
        {
          "output_type": "stream",
          "name": "stdout",
          "text": [
            "Epoch 1/20\n",
            "30/30 [==============================] - 3s 70ms/step - loss: 0.6233 - accuracy: 0.7613 - val_loss: 0.4847 - val_accuracy: 0.8603\n",
            "Epoch 2/20\n",
            "30/30 [==============================] - 1s 24ms/step - loss: 0.4154 - accuracy: 0.8855 - val_loss: 0.4266 - val_accuracy: 0.8583\n",
            "Epoch 3/20\n",
            "30/30 [==============================] - 1s 24ms/step - loss: 0.3337 - accuracy: 0.9137 - val_loss: 0.3624 - val_accuracy: 0.8867\n",
            "Epoch 4/20\n",
            "30/30 [==============================] - 1s 25ms/step - loss: 0.2945 - accuracy: 0.9251 - val_loss: 0.3510 - val_accuracy: 0.8897\n",
            "Epoch 5/20\n",
            "30/30 [==============================] - 1s 32ms/step - loss: 0.2681 - accuracy: 0.9327 - val_loss: 0.3859 - val_accuracy: 0.8721\n",
            "Epoch 6/20\n",
            "30/30 [==============================] - 1s 41ms/step - loss: 0.2556 - accuracy: 0.9383 - val_loss: 0.3676 - val_accuracy: 0.8783\n",
            "Epoch 7/20\n",
            "30/30 [==============================] - 1s 25ms/step - loss: 0.2393 - accuracy: 0.9474 - val_loss: 0.3702 - val_accuracy: 0.8793\n",
            "Epoch 8/20\n",
            "30/30 [==============================] - 1s 25ms/step - loss: 0.2299 - accuracy: 0.9496 - val_loss: 0.4037 - val_accuracy: 0.8711\n",
            "Epoch 9/20\n",
            "30/30 [==============================] - 1s 22ms/step - loss: 0.2221 - accuracy: 0.9525 - val_loss: 0.3878 - val_accuracy: 0.8751\n",
            "Epoch 10/20\n",
            "30/30 [==============================] - 1s 23ms/step - loss: 0.2210 - accuracy: 0.9529 - val_loss: 0.3731 - val_accuracy: 0.8817\n",
            "Epoch 11/20\n",
            "30/30 [==============================] - 1s 24ms/step - loss: 0.2087 - accuracy: 0.9574 - val_loss: 0.4087 - val_accuracy: 0.8712\n",
            "Epoch 12/20\n",
            "30/30 [==============================] - 1s 24ms/step - loss: 0.2066 - accuracy: 0.9583 - val_loss: 0.4022 - val_accuracy: 0.8763\n",
            "Epoch 13/20\n",
            "30/30 [==============================] - 1s 22ms/step - loss: 0.2004 - accuracy: 0.9608 - val_loss: 0.3849 - val_accuracy: 0.8802\n",
            "Epoch 14/20\n",
            "30/30 [==============================] - 1s 26ms/step - loss: 0.2023 - accuracy: 0.9588 - val_loss: 0.3907 - val_accuracy: 0.8781\n",
            "Epoch 15/20\n",
            "30/30 [==============================] - 1s 23ms/step - loss: 0.1948 - accuracy: 0.9653 - val_loss: 0.3974 - val_accuracy: 0.8771\n",
            "Epoch 16/20\n",
            "30/30 [==============================] - 1s 22ms/step - loss: 0.1925 - accuracy: 0.9642 - val_loss: 0.3963 - val_accuracy: 0.8784\n",
            "Epoch 17/20\n",
            "30/30 [==============================] - 1s 25ms/step - loss: 0.1924 - accuracy: 0.9639 - val_loss: 0.4004 - val_accuracy: 0.8774\n",
            "Epoch 18/20\n",
            "30/30 [==============================] - 1s 24ms/step - loss: 0.1896 - accuracy: 0.9650 - val_loss: 0.4498 - val_accuracy: 0.8596\n",
            "Epoch 19/20\n",
            "30/30 [==============================] - 1s 22ms/step - loss: 0.1863 - accuracy: 0.9676 - val_loss: 0.4051 - val_accuracy: 0.8801\n",
            "Epoch 20/20\n",
            "30/30 [==============================] - 1s 21ms/step - loss: 0.1821 - accuracy: 0.9689 - val_loss: 0.4300 - val_accuracy: 0.8716\n"
          ]
        }
      ],
      "source": [
        "from tensorflow.keras import regularizers\n",
        "model = keras.Sequential([\n",
        "    layers.Dense(16,\n",
        "                 kernel_regularizer=regularizers.l2(0.002),\n",
        "                 activation=\"relu\"),\n",
        "    layers.Dense(16,\n",
        "                 kernel_regularizer=regularizers.l2(0.002),\n",
        "                 activation=\"relu\"),\n",
        "    layers.Dense(1, activation=\"sigmoid\")\n",
        "])\n",
        "model.compile(optimizer=\"rmsprop\",\n",
        "              loss=\"binary_crossentropy\",\n",
        "              metrics=[\"accuracy\"])\n",
        "history_l2_reg = model.fit(\n",
        "    train_data, train_labels,\n",
        "    epochs=20, batch_size=512, validation_split=0.4)"
      ]
    },
    {
      "cell_type": "markdown",
      "metadata": {
        "id": "JoSUOPf8VTuW"
      },
      "source": [
        "**Different weight regularizers available in Keras**"
      ]
    },
    {
      "cell_type": "code",
      "execution_count": 29,
      "metadata": {
        "id": "ervC76ioVTuW",
        "outputId": "d55fedf8-ef8a-4788-b88b-fd22ccef4447",
        "colab": {
          "base_uri": "https://localhost:8080/"
        }
      },
      "outputs": [
        {
          "output_type": "execute_result",
          "data": {
            "text/plain": [
              "<keras.src.regularizers.L1L2 at 0x7be9e5cbfc10>"
            ]
          },
          "metadata": {},
          "execution_count": 29
        }
      ],
      "source": [
        "from tensorflow.keras import regularizers\n",
        "regularizers.l1(0.001)\n",
        "regularizers.l1_l2(l1=0.001, l2=0.001)"
      ]
    },
    {
      "cell_type": "markdown",
      "metadata": {
        "id": "n6b9SlGiVTuW"
      },
      "source": [
        "#### Adding dropout"
      ]
    },
    {
      "cell_type": "markdown",
      "metadata": {
        "id": "gOCRaCYcVTuW"
      },
      "source": [
        "**Adding dropout to the IMDB model**"
      ]
    },
    {
      "cell_type": "code",
      "execution_count": 30,
      "metadata": {
        "id": "hSK82y9cVTuX",
        "outputId": "d0614b88-682a-4b99-cbf8-b850920249a1",
        "colab": {
          "base_uri": "https://localhost:8080/"
        }
      },
      "outputs": [
        {
          "output_type": "stream",
          "name": "stdout",
          "text": [
            "Epoch 1/20\n",
            "30/30 [==============================] - 4s 66ms/step - loss: 0.6250 - accuracy: 0.6511 - val_loss: 0.5071 - val_accuracy: 0.8281\n",
            "Epoch 2/20\n",
            "30/30 [==============================] - 1s 22ms/step - loss: 0.4979 - accuracy: 0.7757 - val_loss: 0.3865 - val_accuracy: 0.8746\n",
            "Epoch 3/20\n",
            "30/30 [==============================] - 1s 23ms/step - loss: 0.4145 - accuracy: 0.8309 - val_loss: 0.3253 - val_accuracy: 0.8813\n",
            "Epoch 4/20\n",
            "30/30 [==============================] - 1s 23ms/step - loss: 0.3473 - accuracy: 0.8683 - val_loss: 0.3013 - val_accuracy: 0.8850\n",
            "Epoch 5/20\n",
            "30/30 [==============================] - 1s 25ms/step - loss: 0.2994 - accuracy: 0.8953 - val_loss: 0.2784 - val_accuracy: 0.8908\n",
            "Epoch 6/20\n",
            "30/30 [==============================] - 1s 26ms/step - loss: 0.2615 - accuracy: 0.9121 - val_loss: 0.2782 - val_accuracy: 0.8889\n",
            "Epoch 7/20\n",
            "30/30 [==============================] - 1s 34ms/step - loss: 0.2330 - accuracy: 0.9225 - val_loss: 0.2811 - val_accuracy: 0.8908\n",
            "Epoch 8/20\n",
            "30/30 [==============================] - 1s 30ms/step - loss: 0.2024 - accuracy: 0.9363 - val_loss: 0.2913 - val_accuracy: 0.8894\n",
            "Epoch 9/20\n",
            "30/30 [==============================] - 1s 22ms/step - loss: 0.1771 - accuracy: 0.9445 - val_loss: 0.3144 - val_accuracy: 0.8876\n",
            "Epoch 10/20\n",
            "30/30 [==============================] - 1s 23ms/step - loss: 0.1632 - accuracy: 0.9472 - val_loss: 0.3086 - val_accuracy: 0.8892\n",
            "Epoch 11/20\n",
            "30/30 [==============================] - 1s 23ms/step - loss: 0.1460 - accuracy: 0.9533 - val_loss: 0.3630 - val_accuracy: 0.8831\n",
            "Epoch 12/20\n",
            "30/30 [==============================] - 1s 22ms/step - loss: 0.1317 - accuracy: 0.9594 - val_loss: 0.3809 - val_accuracy: 0.8831\n",
            "Epoch 13/20\n",
            "30/30 [==============================] - 1s 26ms/step - loss: 0.1214 - accuracy: 0.9599 - val_loss: 0.3736 - val_accuracy: 0.8863\n",
            "Epoch 14/20\n",
            "30/30 [==============================] - 1s 22ms/step - loss: 0.1086 - accuracy: 0.9657 - val_loss: 0.4156 - val_accuracy: 0.8850\n",
            "Epoch 15/20\n",
            "30/30 [==============================] - 1s 23ms/step - loss: 0.1008 - accuracy: 0.9689 - val_loss: 0.4225 - val_accuracy: 0.8862\n",
            "Epoch 16/20\n",
            "30/30 [==============================] - 1s 22ms/step - loss: 0.0961 - accuracy: 0.9684 - val_loss: 0.4530 - val_accuracy: 0.8840\n",
            "Epoch 17/20\n",
            "30/30 [==============================] - 1s 25ms/step - loss: 0.0882 - accuracy: 0.9702 - val_loss: 0.4956 - val_accuracy: 0.8845\n",
            "Epoch 18/20\n",
            "30/30 [==============================] - 1s 23ms/step - loss: 0.0781 - accuracy: 0.9743 - val_loss: 0.5144 - val_accuracy: 0.8826\n",
            "Epoch 19/20\n",
            "30/30 [==============================] - 1s 24ms/step - loss: 0.0787 - accuracy: 0.9759 - val_loss: 0.5240 - val_accuracy: 0.8834\n",
            "Epoch 20/20\n",
            "30/30 [==============================] - 1s 22ms/step - loss: 0.0745 - accuracy: 0.9770 - val_loss: 0.5651 - val_accuracy: 0.8826\n"
          ]
        }
      ],
      "source": [
        "model = keras.Sequential([\n",
        "    layers.Dense(16, activation=\"relu\"),\n",
        "    layers.Dropout(0.5),\n",
        "    layers.Dense(16, activation=\"relu\"),\n",
        "    layers.Dropout(0.5),\n",
        "    layers.Dense(1, activation=\"sigmoid\")\n",
        "])\n",
        "model.compile(optimizer=\"rmsprop\",\n",
        "              loss=\"binary_crossentropy\",\n",
        "              metrics=[\"accuracy\"])\n",
        "history_dropout = model.fit(\n",
        "    train_data, train_labels,\n",
        "    epochs=20, batch_size=512, validation_split=0.4)"
      ]
    },
    {
      "cell_type": "code",
      "source": [
        "#Difference in validation loss for L2 and Dropout:\n",
        "\n",
        "\n",
        "import matplotlib.pyplot as plt\n",
        "val_loss_l2 = history_l2_reg.history[\"val_loss\"]\n",
        "val_loss_dropout = history_dropout.history[\"val_loss\"]\n",
        "\n",
        "epochs = range(1, 21)\n",
        "plt.plot(epochs, val_loss_l2, \"r--\",\n",
        "         label=\"Validation loss L2\")\n",
        "plt.plot(epochs, val_loss_dropout, \"b--\",\n",
        "         label=\"Validation loss dropout\")\n",
        "plt.title(\"Difference in validation loss for L2 and Dropout\")\n",
        "plt.xlabel(\"Epochs\")\n",
        "plt.ylabel(\"Validation Loss\")\n",
        "plt.legend()"
      ],
      "metadata": {
        "id": "TinPW_s6cIn9",
        "outputId": "2b00dbb2-2707-454f-9620-f2f2eb5f549d",
        "colab": {
          "base_uri": "https://localhost:8080/",
          "height": 489
        }
      },
      "execution_count": 34,
      "outputs": [
        {
          "output_type": "execute_result",
          "data": {
            "text/plain": [
              "<matplotlib.legend.Legend at 0x7be9011bf460>"
            ]
          },
          "metadata": {},
          "execution_count": 34
        },
        {
          "output_type": "display_data",
          "data": {
            "text/plain": [
              "<Figure size 640x480 with 1 Axes>"
            ],
            "image/png": "[encoded data removed]"
          },
          "metadata": {}
        }
      ]
    },
    {
      "cell_type": "markdown",
      "source": [
        "Dropout technique has less validation loss before overfitting than L2"
      ],
      "metadata": {
        "id": "_IUPmL9Oc_qN"
      }
    },
    {
      "cell_type": "code",
      "source": [],
      "metadata": {
        "id": "rvXppt9jcIhG"
      },
      "execution_count": null,
      "outputs": []
    },
    {
      "cell_type": "code",
      "source": [],
      "metadata": {
        "id": "r-Gqm3zscId7"
      },
      "execution_count": null,
      "outputs": []
    },
    {
      "cell_type": "markdown",
      "metadata": {
        "id": "jfspw_CWVTuZ"
      },
      "source": [
        "## Summary"
      ]
    }
  ],
  "metadata": {
    "colab": {
      "name": "chapter05_fundamentals-of-ml.i",
      "provenance": [],
      "toc_visible": true,
      "gpuType": "T4"
    },
    "kernelspec": {
      "display_name": "Python 3",
      "name": "python3"
    },
    "language_info": {
      "codemirror_mode": {
        "name": "ipython",
        "version": 3
      },
      "file_extension": ".py",
      "mimetype": "text/x-python",
      "name": "python",
      "nbconvert_exporter": "python",
      "pygments_lexer": "ipython3",
      "version": "3.7.0"
    },
    "accelerator": "GPU"
  },
  "nbformat": 4,
  "nbformat_minor": 0
}